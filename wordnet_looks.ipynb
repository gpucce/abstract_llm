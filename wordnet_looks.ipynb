{
 "cells": [
  {
   "cell_type": "code",
   "execution_count": 32,
   "metadata": {},
   "outputs": [],
   "source": [
    "import json\n",
    "import os\n",
    "import re\n",
    "from tqdm.auto import tqdm\n",
    "import numpy as np\n",
    "from nltk.corpus import wordnet\n",
    "import matplotlib.pyplot as plt\n",
    "from scipy.stats import pearsonr\n",
    "import sys\n",
    "sys.path.insert(0, \"generate_abstractions\")\n",
    "from wordnet_postprocessing import compute_spec"
   ]
  },
  {
   "cell_type": "code",
   "execution_count": 2,
   "metadata": {},
   "outputs": [],
   "source": [
    "_files = os.listdir(\"./gen_1\")"
   ]
  },
  {
   "cell_type": "code",
   "execution_count": 28,
   "metadata": {},
   "outputs": [
    {
     "name": "stdout",
     "output_type": "stream",
     "text": [
      "entirety \t ['existence', 'reality', 'wholeness', 'completeness', 'entirety']\n",
      "creationism \t ['concept', 'idea', 'belief', 'theory', 'doctrine', 'creationism']\n",
      "thousand \t ['concept', 'quantity', 'number']\n",
      "flashback \t ['concept', 'memory', 'recollection', 'reminiscence', 'flashback']\n",
      "originality \t ['concept', 'idea', 'notion', 'creativity', 'originality', 'innovation']\n",
      "mozzarella \t ['object', 'food', 'dairy', 'cheese', 'mozzarella']\n",
      "maypole \t ['object', 'structure', 'monument', 'landmark', 'tradition', 'maypole']\n",
      "dizziness \t ['feeling', 'sensation', 'discomfort', 'dizziness', 'lightheadedness', 'vertigo']\n",
      "electrostatics \t ['science', 'physics', 'electricity', 'electrostatics']\n",
      "subversion \t ['concept', 'idea', 'notion', 'theory', 'principle', 'action', 'movement', 'protest', 'subversion']\n",
      "8413\n",
      "0.5030279542422674\n",
      "9044\n",
      "0.47355314653057845\n",
      "10665\n",
      "0.464962231608569\n",
      "11632\n",
      "0.5837916024891524\n",
      "9223\n",
      "0.4766644544313452\n",
      "9178\n",
      "0.4739921764788866\n",
      "9168\n",
      "0.5121104930930951\n",
      "63\n",
      "0.5574067605885511\n",
      "8885\n",
      "0.47599959153944094\n",
      "10730\n",
      "0.5609494436229302\n",
      "10137\n",
      "0.4965329811455318\n",
      "9082\n",
      "0.5902365995651414\n",
      "9040\n",
      "0.47103859702631623\n",
      "8950\n",
      "0.48992869067675915\n",
      "8955\n",
      "0.4886895633853488\n",
      "7641\n",
      "0.4783182009396215\n",
      "8576\n",
      "0.48428585143023195\n",
      "9319\n",
      "0.5148697650205529\n"
     ]
    }
   ],
   "source": [
    "for _file in _files:\n",
    "    \n",
    "    if not \"405\" in _file:\n",
    "        continue\n",
    "    with open(\"processed_gen_1/\" + _file) as f:\n",
    "        _read_file = [json.loads(i) for i in f.readlines()]\n",
    "    _read_file = [i for i in _read_file if i[\"list\"] is not None or i[\"list_spec\"] is not None or i[\"list_spec_corr\"] is not None]\n",
    "    for i in _read_file:\n",
    "        try:\n",
    "            _idx = i[\"list_spec\"].index(0)\n",
    "        except:\n",
    "            _idx = len(i[\"list_spec\"])\n",
    "        i[\"list\"] = i[\"list\"][:_idx]\n",
    "        i[\"list_spec\"] = i[\"list_spec\"][:_idx]\n",
    "    _read_file = [i for i in _read_file if len([j for j in i[\"list_spec\"] if j > 0]) > 2]\n",
    "        \n",
    "    if _file == \"generation_output_llama-3.1-405b-instruct-hf_You are a teacher explaining the concept of abstraction and concreteness to a class of 5th grad.jsonl\":\n",
    "        specific_file = _file\n",
    "        specific_read_file = _read_file\n",
    "        for idx in range(10):\n",
    "            print(_read_file[idx][\"token\"], \"\\t\", _read_file[idx][\"list\"])\n",
    "    print(len(_read_file))\n",
    "    print(np.mean([i[\"list_spec_corr\"] for i in _read_file if i[\"list_spec_corr\"] is not None and not np.isnan(i[\"list_spec_corr\"])]))\n"
   ]
  },
  {
   "cell_type": "code",
   "execution_count": 29,
   "metadata": {},
   "outputs": [
    {
     "name": "stdout",
     "output_type": "stream",
     "text": [
      "8401 0.5030279542422674\n"
     ]
    },
    {
     "data": {
      "image/png": "[encoded data removed]",
      "text/plain": [
       "<Figure size 640x480 with 1 Axes>"
      ]
     },
     "metadata": {},
     "output_type": "display_data"
    }
   ],
   "source": [
    "clean_list = [i[\"list_spec_corr\"] for i in specific_read_file if len(i[\"list\"]) > 1 and not np.isnan(i[\"list_spec_corr\"])]\n",
    "print(len(clean_list), np.mean(clean_list))\n",
    "plt.hist([i[\"list_spec_corr\"] for i in specific_read_file if len(i[\"list\"]) > 1 and i[\"list_spec_corr\"] is not None and not np.isnan(i[\"list_spec_corr\"])], bins=20);"
   ]
  },
  {
   "cell_type": "code",
   "execution_count": 30,
   "metadata": {},
   "outputs": [
    {
     "name": "stdout",
     "output_type": "stream",
     "text": [
      "vow\n",
      "['concept', 'promise', 'oath', 'vow']\n",
      "[1.5, 2.25, 1.5, 1.5]\n"
     ]
    }
   ],
   "source": [
    "idx = 51\n",
    "\n",
    "_mylist = [i for i in specific_read_file if i[\"list_spec_corr\"] is not None and i[\"list_spec_corr\"] < 0 and len(i[\"list\"]) > 1]\n",
    "print(_mylist[idx][\"token\"])\n",
    "print(_mylist[idx][\"list\"])\n",
    "print(_mylist[idx][\"list_spec\"])"
   ]
  },
  {
   "cell_type": "code",
   "execution_count": 35,
   "metadata": {},
   "outputs": [
    {
     "data": {
      "text/plain": [
       "1.5"
      ]
     },
     "execution_count": 35,
     "metadata": {},
     "output_type": "execute_result"
    }
   ],
   "source": [
    "compute_spec(\"concept\")"
   ]
  }
 ],
 "metadata": {
  "kernelspec": {
   "display_name": "Python 3",
   "language": "python",
   "name": "python3"
  },
  "language_info": {
   "codemirror_mode": {
    "name": "ipython",
    "version": 3
   },
   "file_extension": ".py",
   "mimetype": "text/x-python",
   "name": "python",
   "nbconvert_exporter": "python",
   "pygments_lexer": "ipython3",
   "version": "undefined.undefined.undefined"
  }
 },
 "nbformat": 4,
 "nbformat_minor": 2
}
